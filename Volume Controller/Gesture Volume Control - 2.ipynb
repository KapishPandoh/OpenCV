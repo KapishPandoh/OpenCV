{
 "cells": [
  {
   "cell_type": "code",
   "execution_count": 1,
   "metadata": {},
   "outputs": [],
   "source": [
    "import cv2\n",
    "import numpy as np\n",
    "import mediapipe as mp"
   ]
  },
  {
   "cell_type": "code",
   "execution_count": 2,
   "metadata": {},
   "outputs": [],
   "source": [
    "import math"
   ]
  },
  {
   "cell_type": "code",
   "execution_count": 3,
   "metadata": {},
   "outputs": [],
   "source": [
    "from ctypes import cast, POINTER\n",
    "from comtypes import CLSCTX_ALL\n",
    "from pycaw.pycaw import AudioUtilities, IAudioEndpointVolume"
   ]
  },
  {
   "cell_type": "code",
   "execution_count": 4,
   "metadata": {},
   "outputs": [],
   "source": [
    "devices = AudioUtilities.GetSpeakers()\n",
    "\n",
    "interface = devices.Activate(\n",
    "                              IAudioEndpointVolume._iid_ , \n",
    "                              CLSCTX_ALL , \n",
    "                              None\n",
    "                             )\n",
    "\n",
    "volume = cast(interface, POINTER(IAudioEndpointVolume))"
   ]
  },
  {
   "cell_type": "code",
   "execution_count": 5,
   "metadata": {},
   "outputs": [],
   "source": [
    "vol_Range = volume.GetVolumeRange()\n",
    "minV = vol_Range[0]\n",
    "maxV = vol_Range[1]"
   ]
  },
  {
   "cell_type": "code",
   "execution_count": 6,
   "metadata": {},
   "outputs": [],
   "source": [
    "mpHands = mp.solutions.hands\n",
    "mpDraw = mp.solutions.drawing_utils"
   ]
  },
  {
   "cell_type": "code",
   "execution_count": 7,
   "metadata": {},
   "outputs": [],
   "source": [
    "hands = mpHands.Hands(\n",
    "                       static_image_mode=False,  \n",
    "                       max_num_hands=1,\n",
    "                       min_detection_confidence = 0.7 ,\n",
    "                       min_tracking_confidence = 0.5 \n",
    "                     )"
   ]
  },
  {
   "cell_type": "code",
   "execution_count": 8,
   "metadata": {},
   "outputs": [],
   "source": [
    "tipIds = [4, 8, 12, 16, 20]"
   ]
  },
  {
   "cell_type": "code",
   "execution_count": 9,
   "metadata": {},
   "outputs": [],
   "source": [
    "def findHands(img ,draw=True):\n",
    "    imgRGB = cv2.cvtColor(img, cv2.COLOR_BGR2RGB)\n",
    "    results = hands.process(imgRGB)\n",
    "    \n",
    "    if results.multi_hand_landmarks:\n",
    "        for handLms in results.multi_hand_landmarks:\n",
    "            if draw:\n",
    "                mpDraw.draw_landmarks(img, handLms,mpHands.HAND_CONNECTIONS)\n",
    "    \n",
    "    return img,results"
   ]
  },
  {
   "cell_type": "code",
   "execution_count": 10,
   "metadata": {},
   "outputs": [],
   "source": [
    "def findPosition(img ,results,draw=True):\n",
    "    xList = []\n",
    "    yList = []\n",
    "    bbox = []\n",
    "    \n",
    "    lmList = []\n",
    "    \n",
    "    h, w = img.shape[:2]\n",
    "    \n",
    "    if results.multi_hand_landmarks:\n",
    "        myHand = results.multi_hand_landmarks[0]\n",
    "        \n",
    "        for id, lm in enumerate(myHand.landmark):\n",
    "            cx, cy = int(lm.x*w), int(lm.y*h)\n",
    "\n",
    "            xList.append(cx)\n",
    "            yList.append(cy)\n",
    "\n",
    "            lmList.append([id, cx, cy])\n",
    "\n",
    "        xmin, xmax = min(xList), max(xList)\n",
    "        ymin, ymax = min(yList), max(yList)\n",
    "        \n",
    "        # bounding boxes\n",
    "        bbox = xmin,ymin,xmax,ymax\n",
    "        \n",
    "        if draw :\n",
    "            cv2.rectangle(img ,(bbox[0]-20,bbox[1]-20) ,(bbox[2]+20,bbox[3]+20), (0,255,0) ,2)\n",
    "    return lmList , bbox"
   ]
  },
  {
   "cell_type": "code",
   "execution_count": 11,
   "metadata": {},
   "outputs": [],
   "source": [
    "def findDistance(lmList,p1,p2,img,draw=True):\n",
    "    x1,y1 = lmList[p1][1] , lmList[p1][2]\n",
    "    x2,y2 = lmList[p2][1] , lmList[p2][2]\n",
    "\n",
    "\n",
    "    cx,cy = (x1+x2)//2 ,(y1+y2)//2\n",
    "    \n",
    "    if draw:\n",
    "        cv2.circle(img ,(x1,y1) ,5 ,(0,0,0) ,cv2.FILLED)\n",
    "        cv2.circle(img ,(x2,y2) ,5 ,(0,0,0) ,cv2.FILLED)\n",
    "        cv2.circle(img ,(cx,cy) ,5 ,(0,0,0) ,cv2.FILLED)\n",
    "\n",
    "        cv2.line(img ,(x1,y1) ,(x2,y2) ,(230,85,73) ,3)\n",
    "\n",
    "    length = math.hypot(x2-x1,y2-y1)\n",
    "    \n",
    "    return length,img ,[x1,y1,x2,y2,cx,cy]"
   ]
  },
  {
   "cell_type": "code",
   "execution_count": 12,
   "metadata": {},
   "outputs": [],
   "source": [
    "def fingersUp(lmList):\n",
    "    \n",
    "    fingers = []\n",
    "    \n",
    "    # Thumb\n",
    "    if lmList[tipIds[0]][1] > lmList[tipIds[0] - 1][1]:\n",
    "        fingers.append(1)\n",
    "    else:\n",
    "        fingers.append(0)\n",
    "    \n",
    "    # 4 Fingers\n",
    "    for id in range(1, 5):\n",
    "        if lmList[tipIds[id]][2] < lmList[tipIds[id] - 2][2]:\n",
    "            fingers.append(1)\n",
    "        else:\n",
    "            fingers.append(0)\n",
    "            \n",
    "    return fingers"
   ]
  },
  {
   "cell_type": "code",
   "execution_count": 13,
   "metadata": {},
   "outputs": [],
   "source": [
    "cap = cv2.VideoCapture(0)\n",
    "\n",
    "cap.set(3,1080)\n",
    "cap.set(4,1080)\n",
    "\n",
    "vol = 0\n",
    "volBar = 400\n",
    "volPer = 0\n",
    "\n",
    "volColor = (255,0,0)\n",
    "\n",
    "while True:\n",
    "    _,img = cap.read()\n",
    "    \n",
    "    # Find Hands\n",
    "    img,results = findHands(img)\n",
    "    \n",
    "    lmList ,bbox = findPosition(img ,results)\n",
    "    if len(lmList)!=0:\n",
    "        \n",
    "        # Filter based on size\n",
    "        area = (bbox[2]-bbox[0])*(bbox[3]-bbox[1]) // 100\n",
    "        if 250<area<1000 :\n",
    "            \n",
    "            # Find Distance between index and Thumb\n",
    "            length ,img ,line_info = findDistance(lmList,4,8,img)\n",
    "            \n",
    "            # Convert Volume \n",
    "            volBar = np.interp(length ,[50,200] ,[400,150])\n",
    "            volPer = np.interp(length ,[50,200] ,[0,100])\n",
    "            \n",
    "            # Reduce Resolution to make it smoother\n",
    "            smoothness = 5\n",
    "            volPer = smoothness * round(volPer/smoothness)\n",
    "            \n",
    "            # Check Fingers\n",
    "            fingers = fingersUp(lmList)\n",
    "            \n",
    "            # If Pinky finger is down\n",
    "            if not fingers[4]:\n",
    "                volume.SetMasterVolumeLevelScalar(volPer / 100, None)\n",
    "                cv2.circle(img ,(line_info[4],line_info[5]) ,5 ,(0,255,0) ,cv2.FILLED)\n",
    "                volColor = (0,255,0)\n",
    "            else:\n",
    "                volColor = (255,0,0)\n",
    "                \n",
    "    # Drawings\n",
    "    cv2.rectangle(img ,(50,150) ,(85,400) ,(0,255,0) ,3)\n",
    "    cv2.rectangle(img ,(50,int(volBar)) ,(85,400) ,(0,255,0) ,cv2.FILLED)\n",
    "    cv2.putText(img , f'{int(volPer)}%' ,(40,450) ,cv2.FONT_HERSHEY_COMPLEX ,1 ,(0,255,0) ,3)\n",
    "    \n",
    "    cVol = int(volume.GetMasterVolumeLevelScalar()*100)\n",
    "    cv2.putText(img ,f'Vol Set : {int(cVol)}' ,(400,50) ,cv2.FONT_HERSHEY_COMPLEX ,1 ,volColor,3)\n",
    "    \n",
    "            \n",
    "    cv2.imshow('Gesture Volume Control',img)\n",
    "    if cv2.waitKey(1)&0xff == ord('q'):\n",
    "        break\n",
    "\n",
    "cap.release()\n",
    "cv2.destroyAllWindows()"
   ]
  },
  {
   "cell_type": "code",
   "execution_count": null,
   "metadata": {},
   "outputs": [],
   "source": []
  }
 ],
 "metadata": {
  "kernelspec": {
   "display_name": "Python 3",
   "language": "python",
   "name": "python3"
  },
  "language_info": {
   "codemirror_mode": {
    "name": "ipython",
    "version": 3
   },
   "file_extension": ".py",
   "mimetype": "text/x-python",
   "name": "python",
   "nbconvert_exporter": "python",
   "pygments_lexer": "ipython3",
   "version": "3.8.5"
  }
 },
 "nbformat": 4,
 "nbformat_minor": 4
}
