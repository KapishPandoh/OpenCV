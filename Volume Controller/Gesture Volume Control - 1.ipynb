{
 "cells": [
  {
   "cell_type": "code",
   "execution_count": 1,
   "metadata": {},
   "outputs": [],
   "source": [
    "import cv2\n",
    "import numpy as np\n",
    "import math\n",
    "import mediapipe as mp"
   ]
  },
  {
   "cell_type": "code",
   "execution_count": 2,
   "metadata": {},
   "outputs": [],
   "source": [
    "from ctypes import cast, POINTER\n",
    "from comtypes import CLSCTX_ALL\n",
    "from pycaw.pycaw import AudioUtilities, IAudioEndpointVolume"
   ]
  },
  {
   "cell_type": "code",
   "execution_count": 3,
   "metadata": {},
   "outputs": [],
   "source": [
    "devices = AudioUtilities.GetSpeakers()\n",
    "\n",
    "interface = devices.Activate(\n",
    "                              IAudioEndpointVolume._iid_ , \n",
    "                              CLSCTX_ALL , \n",
    "                              None\n",
    "                             )\n",
    "\n",
    "volume = cast(interface, POINTER(IAudioEndpointVolume))"
   ]
  },
  {
   "cell_type": "code",
   "execution_count": 4,
   "metadata": {},
   "outputs": [],
   "source": [
    "# Vol Range from -65 t0 0\n",
    "\n",
    "vol_Range = volume.GetVolumeRange()\n",
    "minV = vol_Range[0]\n",
    "maxV = vol_Range[1]"
   ]
  },
  {
   "cell_type": "code",
   "execution_count": 5,
   "metadata": {},
   "outputs": [],
   "source": [
    "# volume.GetMute()\n",
    "# volume.GetMasterVolumeLevel()"
   ]
  },
  {
   "cell_type": "code",
   "execution_count": 6,
   "metadata": {},
   "outputs": [],
   "source": [
    "mpHands = mp.solutions.hands\n",
    "mpDraw = mp.solutions.drawing_utils"
   ]
  },
  {
   "cell_type": "code",
   "execution_count": 7,
   "metadata": {},
   "outputs": [],
   "source": [
    "hands = mpHands.Hands(\n",
    "                       static_image_mode=False,  \n",
    "                       max_num_hands=2,\n",
    "                       min_detection_confidence = 0.7 ,\n",
    "                       min_tracking_confidence = 0.5 \n",
    "                     )"
   ]
  },
  {
   "cell_type": "code",
   "execution_count": 8,
   "metadata": {},
   "outputs": [],
   "source": [
    "def findHands(img ,draw=True):\n",
    "    imgRGB = cv2.cvtColor(img, cv2.COLOR_BGR2RGB)\n",
    "    results = hands.process(imgRGB)\n",
    "    \n",
    "    if results.multi_hand_landmarks:\n",
    "        for handLms in results.multi_hand_landmarks:\n",
    "            if draw:\n",
    "                mpDraw.draw_landmarks(img, handLms,mpHands.HAND_CONNECTIONS)\n",
    "    \n",
    "    return img,results"
   ]
  },
  {
   "cell_type": "code",
   "execution_count": 9,
   "metadata": {},
   "outputs": [],
   "source": [
    "def findPosition(img ,results,draw=True):\n",
    "    xList = []\n",
    "    yList = []\n",
    "\n",
    "    lmList = []\n",
    "    \n",
    "    h, w = img.shape[:2]\n",
    "    \n",
    "    if results.multi_hand_landmarks:\n",
    "        myHand = results.multi_hand_landmarks[0]\n",
    "        \n",
    "        for id, lm in enumerate(myHand.landmark):\n",
    "            cx, cy = int(lm.x*w), int(lm.y*h)\n",
    "\n",
    "            xList.append(cx)\n",
    "            yList.append(cy)\n",
    "\n",
    "            lmList.append([id, cx, cy])\n",
    "\n",
    "        xmin, xmax = min(xList), max(xList)\n",
    "        ymin, ymax = min(yList), max(yList)\n",
    "\n",
    "    return lmList"
   ]
  },
  {
   "cell_type": "code",
   "execution_count": 10,
   "metadata": {},
   "outputs": [],
   "source": [
    "cap = cv2.VideoCapture(0)\n",
    "\n",
    "cap.set(3,1080)\n",
    "cap.set(4,1080)\n",
    "\n",
    "vol = 0\n",
    "volBar = 400\n",
    "volPer = 0\n",
    "\n",
    "while True:\n",
    "    _,img = cap.read()\n",
    "    \n",
    "    img,results = findHands(img)\n",
    "    \n",
    "    lmList = findPosition(img ,results)\n",
    "    if len(lmList)!=0:\n",
    "        # thumb tip\n",
    "        x1,y1 = lmList[4][1] , lmList[4][2]\n",
    "        # finger tip\n",
    "        x2,y2 = lmList[8][1] , lmList[8][2]\n",
    "        \n",
    "        # center of line \n",
    "        cx,cy = (x1+x2)//2 ,(y1+y2)//2\n",
    "        \n",
    "        cv2.circle(img ,(x1,y1) ,5 ,(0,0,0) ,cv2.FILLED)\n",
    "        cv2.circle(img ,(x2,y2) ,5 ,(0,0,0) ,cv2.FILLED)\n",
    "        cv2.circle(img ,(cx,cy) ,5 ,(0,0,0) ,cv2.FILLED)\n",
    "        \n",
    "        cv2.line(img ,(x1,y1) ,(x2,y2) ,(230,85,73) ,3)\n",
    "        \n",
    "        length = math.hypot(x2-x1,y2-y1)\n",
    "        # from above we see that our hand range is b/w 50-300\n",
    "        \n",
    "        \n",
    "        # Hand Range   50-300\n",
    "        # Volume Range -65 - 0\n",
    "        # we need to convert Hand Range into Volume Range\n",
    "        vol = np.interp(length ,[50,300] ,[minV,maxV])\n",
    "        volBar = np.interp(length ,[50,300] ,[400,150])\n",
    "        volPer = np.interp(length ,[50,300] ,[0,100])\n",
    "        volume.SetMasterVolumeLevel(vol, None)\n",
    "        \n",
    "        if length<50:\n",
    "            cv2.circle(img ,(cx,cy) ,5 ,(0,255,0) ,cv2.FILLED)\n",
    "    \n",
    "    cv2.rectangle(img ,(50,150) ,(85,400) ,(0,255,0) ,3)\n",
    "    cv2.rectangle(img ,(50,int(volBar)) ,(85,400) ,(0,255,0) ,cv2.FILLED)\n",
    "    cv2.putText(img ,f'{int(volPer)}%' ,(40,450) ,cv2.FONT_HERSHEY_COMPLEX ,1 ,(0,255,0) ,3)\n",
    "    cv2.imshow('Gesture Volume Control',img)\n",
    "    if cv2.waitKey(1)&0xff == ord('q'):\n",
    "        break\n",
    "\n",
    "cap.release()\n",
    "cv2.destroyAllWindows()"
   ]
  },
  {
   "cell_type": "code",
   "execution_count": null,
   "metadata": {},
   "outputs": [],
   "source": []
  }
 ],
 "metadata": {
  "kernelspec": {
   "display_name": "Python 3",
   "language": "python",
   "name": "python3"
  },
  "language_info": {
   "codemirror_mode": {
    "name": "ipython",
    "version": 3
   },
   "file_extension": ".py",
   "mimetype": "text/x-python",
   "name": "python",
   "nbconvert_exporter": "python",
   "pygments_lexer": "ipython3",
   "version": "3.8.5"
  }
 },
 "nbformat": 4,
 "nbformat_minor": 4
}
