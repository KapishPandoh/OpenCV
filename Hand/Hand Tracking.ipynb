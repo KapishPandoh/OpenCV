{
 "cells": [
  {
   "cell_type": "code",
   "execution_count": 1,
   "metadata": {},
   "outputs": [],
   "source": [
    "import cv2\n",
    "import mediapipe as mp"
   ]
  },
  {
   "cell_type": "code",
   "execution_count": 2,
   "metadata": {},
   "outputs": [],
   "source": [
    "cap = cv2.VideoCapture(0)"
   ]
  },
  {
   "cell_type": "code",
   "execution_count": 3,
   "metadata": {},
   "outputs": [],
   "source": [
    "# hands module\n",
    "mpHands = mp.solutions.hands\n",
    "\n",
    "# drawing module\n",
    "mpDraw = mp.solutions.drawing_utils"
   ]
  },
  {
   "cell_type": "code",
   "execution_count": 4,
   "metadata": {},
   "outputs": [],
   "source": [
    "hands = mpHands.Hands(\n",
    "                       static_image_mode=False,  \n",
    "                       max_num_hands=2,\n",
    "                       min_detection_confidence = 0.5 ,\n",
    "                       min_tracking_confidence = 0.5 \n",
    "                     )"
   ]
  },
  {
   "cell_type": "code",
   "execution_count": 5,
   "metadata": {},
   "outputs": [],
   "source": [
    "while True:\n",
    "    _ , img = cap.read()\n",
    "    h,w = img.shape[:2]\n",
    "    \n",
    "    imgRGB = cv2.cvtColor(img ,cv2.COLOR_BGR2RGB)\n",
    "    \n",
    "    results = hands.process(imgRGB)\n",
    "\n",
    "    if results.multi_hand_landmarks :\n",
    "        \n",
    "        for handLms in results.multi_hand_landmarks :\n",
    "            for id,lm in enumerate(handLms.landmark):\n",
    "                cx,cy=int(lm.x*w) ,int(lm.y*h)\n",
    "                \n",
    "                if id==12:\n",
    "                    cv2.circle(img ,(cx,cy) ,15 ,(255,0,255) ,-1)\n",
    "                \n",
    "            mpDraw.draw_landmarks(img ,handLms ,mpHands.HAND_CONNECTIONS)\n",
    "            \n",
    "\n",
    "    cv2.imshow(\"Track\" ,img)\n",
    "    if cv2.waitKey(1) & 0xFF == ord('q') :\n",
    "        break"
   ]
  },
  {
   "cell_type": "code",
   "execution_count": 6,
   "metadata": {},
   "outputs": [],
   "source": [
    "cap.release()\n",
    "cv2.destroyAllWindows()"
   ]
  },
  {
   "cell_type": "code",
   "execution_count": null,
   "metadata": {},
   "outputs": [],
   "source": []
  }
 ],
 "metadata": {
  "kernelspec": {
   "display_name": "Python 3",
   "language": "python",
   "name": "python3"
  },
  "language_info": {
   "codemirror_mode": {
    "name": "ipython",
    "version": 3
   },
   "file_extension": ".py",
   "mimetype": "text/x-python",
   "name": "python",
   "nbconvert_exporter": "python",
   "pygments_lexer": "ipython3",
   "version": "3.8.5"
  }
 },
 "nbformat": 4,
 "nbformat_minor": 4
}
