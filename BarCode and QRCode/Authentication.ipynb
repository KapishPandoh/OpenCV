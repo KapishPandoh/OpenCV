{
 "cells": [
  {
   "cell_type": "markdown",
   "metadata": {},
   "source": [
    "We have a list of approved ids whenever is person is coming it will show its id\n",
    "and system will check whether they are authorized or not."
   ]
  },
  {
   "cell_type": "code",
   "execution_count": 1,
   "metadata": {},
   "outputs": [],
   "source": [
    "import cv2\n",
    "import numpy as np"
   ]
  },
  {
   "cell_type": "code",
   "execution_count": 2,
   "metadata": {},
   "outputs": [],
   "source": [
    "from pyzbar.pyzbar import decode"
   ]
  },
  {
   "cell_type": "code",
   "execution_count": 3,
   "metadata": {},
   "outputs": [],
   "source": [
    "myDataList = ''"
   ]
  },
  {
   "cell_type": "code",
   "execution_count": 4,
   "metadata": {},
   "outputs": [],
   "source": [
    "with open('MyDataFile.txt') as fp:\n",
    "    myDataList = fp.read().splitlines()"
   ]
  },
  {
   "cell_type": "code",
   "execution_count": 5,
   "metadata": {},
   "outputs": [
    {
     "data": {
      "text/plain": [
       "['11111', '11112', '11113', '11114', '11115']"
      ]
     },
     "execution_count": 5,
     "metadata": {},
     "output_type": "execute_result"
    }
   ],
   "source": [
    "myDataList"
   ]
  },
  {
   "cell_type": "markdown",
   "metadata": {},
   "source": [
    "## Images"
   ]
  },
  {
   "cell_type": "code",
   "execution_count": 6,
   "metadata": {},
   "outputs": [],
   "source": [
    "img = cv2.imread('11111.png')"
   ]
  },
  {
   "cell_type": "code",
   "execution_count": null,
   "metadata": {},
   "outputs": [],
   "source": [
    "for Qr_Bar_Code in decode(img) :    \n",
    "    \n",
    "    myData = Qr_Bar_Code.data.decode('utf-8')\n",
    "    print(f'Atual Data : {myData}\\n\\n')\n",
    "    \n",
    "    if myData in myDataList :\n",
    "        myOp = 'Authorized'\n",
    "        myColor = (0,255,0)\n",
    "    else:\n",
    "        myOp = 'Un-Authorized'\n",
    "        myColor = (0,0,255)\n",
    "        \n",
    "    \n",
    "    pts = np.array([Qr_Bar_Code.polygon] ,np.int32)\n",
    "    pts = pts.reshape((-1,1,2))\n",
    "    \n",
    "    cv2.polylines(img ,[pts] ,True ,myColor ,5)\n",
    "    \n",
    "    pts2 = Qr_Bar_Code.rect\n",
    "    cv2.putText(img ,myOp ,(pts2[0],pts2[1]) ,cv2.FONT_HERSHEY_COMPLEX ,0.9 ,myColor,2)\n",
    "\n",
    "    cv2.imshow('Result' ,img)\n",
    "    cv2.waitKey(0)"
   ]
  },
  {
   "cell_type": "markdown",
   "metadata": {},
   "source": [
    "## Video"
   ]
  },
  {
   "cell_type": "code",
   "execution_count": 8,
   "metadata": {},
   "outputs": [],
   "source": [
    "cap = cv2.VideoCapture(0)"
   ]
  },
  {
   "cell_type": "code",
   "execution_count": 9,
   "metadata": {},
   "outputs": [
    {
     "data": {
      "text/plain": [
       "True"
      ]
     },
     "execution_count": 9,
     "metadata": {},
     "output_type": "execute_result"
    }
   ],
   "source": [
    "#width\n",
    "cap.set(3,640)\n",
    "\n",
    "#height\n",
    "cap.set(4,480)"
   ]
  },
  {
   "cell_type": "code",
   "execution_count": 10,
   "metadata": {},
   "outputs": [],
   "source": [
    "while True:\n",
    "    _ , frame = cap.read()\n",
    "    \n",
    "    for Qr_Code in decode(frame) :\n",
    "        myData = Qr_Code.data.decode('utf-8')\n",
    "        print(f'Atual Data : {myData}\\n\\n')\n",
    "        \n",
    "        if myData in myDataList :\n",
    "            myOp = 'Authorized'\n",
    "            myColor = (0,255,0)\n",
    "        else:\n",
    "            myOp = 'Un-Authorized'\n",
    "            myColor = (0,0,255)\n",
    "        \n",
    "        pts = np.array([Qr_Code.polygon] ,np.int32)\n",
    "        pts = pts.reshape((-1,1,2))\n",
    "        \n",
    "        cv2.polylines(frame ,[pts] ,True ,myColor ,5)\n",
    "        \n",
    "        pts2 = barcode.rect\n",
    "        cv2.putText(frame ,myOp ,(pts2[0],pts2[1]) ,cv2.FONT_HERSHEY_COMPLEX ,0.9 ,myColor,2)\n",
    "        \n",
    "    cv2.imshow('Result' ,frame)\n",
    "    \n",
    "    if cv2.waitKey(1)&0xff == ord('q'):\n",
    "        break\n",
    "\n",
    "        \n",
    "cap.release()\n",
    "cv2.destroyAllWindows()"
   ]
  }
 ],
 "metadata": {
  "kernelspec": {
   "display_name": "Python 3",
   "language": "python",
   "name": "python3"
  },
  "language_info": {
   "codemirror_mode": {
    "name": "ipython",
    "version": 3
   },
   "file_extension": ".py",
   "mimetype": "text/x-python",
   "name": "python",
   "nbconvert_exporter": "python",
   "pygments_lexer": "ipython3",
   "version": "3.8.5"
  }
 },
 "nbformat": 4,
 "nbformat_minor": 4
}
