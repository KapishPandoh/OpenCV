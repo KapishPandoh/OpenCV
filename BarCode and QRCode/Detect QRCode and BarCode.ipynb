{
 "cells": [
  {
   "cell_type": "code",
   "execution_count": 1,
   "metadata": {},
   "outputs": [],
   "source": [
    "import cv2\n",
    "import numpy as np"
   ]
  },
  {
   "cell_type": "code",
   "execution_count": 2,
   "metadata": {},
   "outputs": [],
   "source": [
    "from pyzbar.pyzbar import decode"
   ]
  },
  {
   "cell_type": "markdown",
   "metadata": {},
   "source": [
    "## Image"
   ]
  },
  {
   "cell_type": "code",
   "execution_count": 3,
   "metadata": {},
   "outputs": [],
   "source": [
    "img = cv2.imread('QR.jpg')"
   ]
  },
  {
   "cell_type": "code",
   "execution_count": 4,
   "metadata": {},
   "outputs": [
    {
     "name": "stdout",
     "output_type": "stream",
     "text": [
      "Type : QRCODE\n",
      "\n",
      "\n",
      "Rectangle : Rect(left=239, top=58, width=122, height=122)\n",
      "\n",
      "\n",
      "Data : b'P\\xc3\\x86\\xc2\\xbe\\xc3\\xbb\\xc3\\xa3\\xc3\\x9d\\xc3\\x8cn%)\\x01\\xc2\\xadZ\\xc2\\x91?V\\n<g\\xc2\\x87\\xc2\\x82a\\xc3\\xa6\\xc3\\x81\\x06\\xc3\\x82Fc\\xc2\\xb4\\xc3\\xa0\\xc2\\x9d\\xc3\\xae:{\\xc3\\x94\\x15\\xc2\\x9ff]\\xc3\\x88p\\xc3\\xaf\\x0c\\xc2\\x94\\xc2\\xa92<\\xc3\\xa7\\xc2\\x8d\\xc2\\xb8\\xc3\\x9b\\x1b\\xc3\\xb1e\\x1b\\xc3\\x84d\\xc3\\x89!\\xc2\\xbe&\\x01q#\\xc3\\x95\\n\\xc3\\xb1\\xc2\\x83\\xc3\\x89\\xc2\\x9c\\xc3\\x8fwm\\xc3\\xbbv\\xc2\\x85\\xc2\\xaf\\xc2\\x87\\r\\xc2\\xb2{\\xc2\\x8b\\x07\\x19O\\xc3\\x94u\\xc3\\xbb\\xc3\\xbe\\xc3\\xb0\\r\\x04\\xc2\\x9c\\xc2\\xad\\xc3\\xb2\\xc2\\xb0'\n",
      "\n",
      "\n",
      "Atual Data : PÆ¾ûãÝÌn%)\u0001­Z?V\n",
      "<gaæÁ\u0006ÂFc´àî:{Ô\u0015f]Èpï\f",
      "©2<ç¸Û\u001bñe\u001bÄdÉ!¾&\u0001q#Õ\n",
      "ñÉÏwmûv",
      "¯\r",
      "²{\u0007\u0019OÔuûþð\r",
      "\u0004­ò°\n",
      "\n",
      "\n"
     ]
    }
   ],
   "source": [
    "for Qr_Bar_Code in decode(img) :\n",
    "    print(f'Type : {Qr_Bar_Code.type}\\n\\n')    \n",
    "    print(f'Rectangle : {Qr_Bar_Code.rect}\\n\\n')\n",
    "    print(f'Data : {Qr_Bar_Code.data}\\n\\n')\n",
    "    \n",
    "    myData = Qr_Bar_Code.data.decode('utf-8')\n",
    "    print(f'Atual Data : {myData}\\n\\n')"
   ]
  },
  {
   "cell_type": "markdown",
   "metadata": {},
   "source": [
    "b in data refers that data is in byte"
   ]
  },
  {
   "cell_type": "markdown",
   "metadata": {},
   "source": [
    "## Video"
   ]
  },
  {
   "cell_type": "code",
   "execution_count": 5,
   "metadata": {},
   "outputs": [],
   "source": [
    "cap = cv2.VideoCapture(0)"
   ]
  },
  {
   "cell_type": "code",
   "execution_count": 6,
   "metadata": {},
   "outputs": [
    {
     "data": {
      "text/plain": [
       "True"
      ]
     },
     "execution_count": 6,
     "metadata": {},
     "output_type": "execute_result"
    }
   ],
   "source": [
    "#width\n",
    "cap.set(3,640)\n",
    "\n",
    "#height\n",
    "cap.set(4,480)"
   ]
  },
  {
   "cell_type": "code",
   "execution_count": 7,
   "metadata": {},
   "outputs": [],
   "source": [
    "while True:\n",
    "    _ , frame = cap.read()\n",
    "    \n",
    "    for Qr_Code in decode(frame) :\n",
    "        myData = Qr_Code.data.decode('utf-8')\n",
    "        print(f'Atual Data : {myData}\\n\\n')\n",
    "        \n",
    "        pts = np.array([Qr_Code.polygon] ,np.int32)\n",
    "        pts = pts.reshape((-1,1,2))\n",
    "        \n",
    "        cv2.polylines(frame ,[pts] ,True ,(255,0,255) ,5)\n",
    "        \n",
    "        pts2 = barcode.rect\n",
    "        cv2.putText(frame ,myData ,(pts2[0],pts2[1]) ,cv2.FONT_HERSHEY_COMPLEX ,0.9 ,(255,0,255),2)\n",
    "        \n",
    "    cv2.imshow('Result' ,frame)\n",
    "    \n",
    "    if cv2.waitKey(1)&0xff == ord('q'):\n",
    "        break\n",
    "\n",
    "        \n",
    "cap.release()\n",
    "cv2.destroyAllWindows()"
   ]
  },
  {
   "cell_type": "code",
   "execution_count": null,
   "metadata": {},
   "outputs": [],
   "source": []
  }
 ],
 "metadata": {
  "kernelspec": {
   "display_name": "Python 3",
   "language": "python",
   "name": "python3"
  },
  "language_info": {
   "codemirror_mode": {
    "name": "ipython",
    "version": 3
   },
   "file_extension": ".py",
   "mimetype": "text/x-python",
   "name": "python",
   "nbconvert_exporter": "python",
   "pygments_lexer": "ipython3",
   "version": "3.8.5"
  }
 },
 "nbformat": 4,
 "nbformat_minor": 4
}
