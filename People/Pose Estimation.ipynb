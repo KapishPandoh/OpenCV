{
 "cells": [
  {
   "cell_type": "code",
   "execution_count": 1,
   "metadata": {},
   "outputs": [],
   "source": [
    "import cv2\n",
    "import mediapipe as mp"
   ]
  },
  {
   "cell_type": "code",
   "execution_count": 2,
   "metadata": {},
   "outputs": [],
   "source": [
    "mpPose = mp.solutions.pose"
   ]
  },
  {
   "cell_type": "code",
   "execution_count": 3,
   "metadata": {},
   "outputs": [],
   "source": [
    "mpDraw = mp.solutions.drawing_utils"
   ]
  },
  {
   "cell_type": "code",
   "execution_count": 4,
   "metadata": {},
   "outputs": [],
   "source": [
    "pose = mpPose.Pose()\n",
    "\n",
    "\n",
    "# mpPose.Pose(\n",
    "#             static_image_mode=False, # if true detecting , if false it will detect when the confidence is high it will track \n",
    "#             upper_body_only=False,     \n",
    "#             smooth_landmarks=True,\n",
    "#             min_detection_confidence=0.5, # if confidence is more than 0.5 then it will go to tracking \n",
    "#             min_tracking_confidence=0.5,  # when it goes below 0.5 it will go back to detection\n",
    "#            )"
   ]
  },
  {
   "cell_type": "code",
   "execution_count": 5,
   "metadata": {},
   "outputs": [],
   "source": [
    "def findPose(results ,img ,draw=True) :\n",
    "    if results.pose_landmarks :\n",
    "        if draw :\n",
    "            mpDraw.draw_landmarks(img ,results.pose_landmarks ,mpPose.POSE_CONNECTIONS)\n",
    "               \n",
    "    \n",
    "    return img"
   ]
  },
  {
   "cell_type": "code",
   "execution_count": 6,
   "metadata": {},
   "outputs": [],
   "source": [
    "def findPosition(results ,img ,draw=True) :\n",
    "    lmList = []\n",
    "    h,w = img.shape[:2]\n",
    "    \n",
    "    if results.pose_landmarks :\n",
    "        for id ,plm in enumerate(results.pose_landmarks.landmark) :\n",
    "            cx,cy = int(plm.x*w) ,int(plm.y*h)\n",
    "            lmList.append([id,cx,cy])\n",
    "\n",
    "            if id==0 :\n",
    "                cv2.circle(img ,(cx,cy) ,5 ,(0,0,0) ,cv2.FILLED)\n",
    "\n",
    "    return lmList"
   ]
  },
  {
   "cell_type": "code",
   "execution_count": 7,
   "metadata": {},
   "outputs": [],
   "source": [
    "cap = cv2.VideoCapture('1.mp4')"
   ]
  },
  {
   "cell_type": "code",
   "execution_count": 8,
   "metadata": {},
   "outputs": [],
   "source": [
    "while cap.isOpened():\n",
    "    _ , img = cap.read()\n",
    "    img = cv2.resize(img ,(480,360) ,interpolation=cv2.INTER_CUBIC)\n",
    "    h,w = img.shape[:2]\n",
    "    \n",
    "    imgRGB = cv2.cvtColor(img ,cv2.COLOR_BGR2RGB)\n",
    "    \n",
    "    results = pose.process(imgRGB)\n",
    "    \n",
    "    img = findPose(results ,img)\n",
    "    lmList = findPosition(results ,img)\n",
    "    \n",
    "    if len(lmList)!=0 :\n",
    "        cv2.circle(img ,(lmList[12][1],lmList[12][2]) ,5 ,(255,0,255) ,cv2.FILLED)\n",
    "  \n",
    "    cv2.imshow('Screen' ,img)\n",
    "    if cv2.waitKey(1)&0xff == ord('q'):\n",
    "        break\n",
    "        \n",
    "cap.release()\n",
    "cv2.destroyAllWindows()"
   ]
  },
  {
   "cell_type": "code",
   "execution_count": null,
   "metadata": {},
   "outputs": [],
   "source": []
  },
  {
   "cell_type": "code",
   "execution_count": null,
   "metadata": {},
   "outputs": [],
   "source": []
  }
 ],
 "metadata": {
  "kernelspec": {
   "display_name": "Python 3",
   "language": "python",
   "name": "python3"
  },
  "language_info": {
   "codemirror_mode": {
    "name": "ipython",
    "version": 3
   },
   "file_extension": ".py",
   "mimetype": "text/x-python",
   "name": "python",
   "nbconvert_exporter": "python",
   "pygments_lexer": "ipython3",
   "version": "3.8.5"
  }
 },
 "nbformat": 4,
 "nbformat_minor": 4
}
