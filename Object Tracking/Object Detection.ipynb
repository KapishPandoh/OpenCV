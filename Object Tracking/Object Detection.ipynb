{
 "cells": [
  {
   "cell_type": "code",
   "execution_count": 1,
   "metadata": {},
   "outputs": [],
   "source": [
    "import cv2\n",
    "import numpy as np"
   ]
  },
  {
   "cell_type": "code",
   "execution_count": 2,
   "metadata": {},
   "outputs": [],
   "source": [
    "yolo = cv2.dnn.readNet('yolov3.weights' ,'yolov3.cfg')"
   ]
  },
  {
   "cell_type": "code",
   "execution_count": 3,
   "metadata": {},
   "outputs": [],
   "source": [
    "classes = []\n",
    "with open(\"coco.names\",'r') as fp:\n",
    "    classes = fp.read().splitlines()"
   ]
  },
  {
   "cell_type": "code",
   "execution_count": 4,
   "metadata": {},
   "outputs": [],
   "source": [
    "COLORS = np.random.uniform(0, 255, size=(len(classes),3) )"
   ]
  },
  {
   "cell_type": "code",
   "execution_count": 5,
   "metadata": {},
   "outputs": [],
   "source": [
    "img = cv2.imread(\"HumAni.jpg\")\n",
    "imgH,imgW = img.shape[:2]"
   ]
  },
  {
   "cell_type": "code",
   "execution_count": 6,
   "metadata": {},
   "outputs": [],
   "source": [
    "scale = 1/255\n",
    "size = (320,320)\n",
    "\n",
    "blob = cv2.dnn.blobFromImage(img ,scale ,size ,(0,0,0) ,swapRB=True ,crop=False)"
   ]
  },
  {
   "cell_type": "code",
   "execution_count": 7,
   "metadata": {},
   "outputs": [],
   "source": [
    "yolo.setInput(blob)"
   ]
  },
  {
   "cell_type": "code",
   "execution_count": 8,
   "metadata": {},
   "outputs": [],
   "source": [
    "output_layers_name = yolo.getUnconnectedOutLayersNames()"
   ]
  },
  {
   "cell_type": "code",
   "execution_count": 9,
   "metadata": {},
   "outputs": [],
   "source": [
    "layer_output = yolo.forward(output_layers_name)"
   ]
  },
  {
   "cell_type": "code",
   "execution_count": 10,
   "metadata": {},
   "outputs": [],
   "source": [
    "boxes = []\n",
    "confidences = []\n",
    "class_ids = []\n",
    "\n",
    "for output in layer_output :\n",
    "    for detection in output :\n",
    "        score = detection[5:]\n",
    "        class_id = np.argmax(score)\n",
    "        confidence = score[class_id]\n",
    "        \n",
    "        if confidence>=0.7 : \n",
    "            centerX = int(detection[0]*imgW) \n",
    "            centerY = int(detection[1]*imgH) \n",
    "            w       = int(detection[2]*imgW) \n",
    "            h       = int(detection[3]*imgH)\n",
    "            \n",
    "            x       = int(centerX-w/2) \n",
    "            y       = int(centerY-h/2) \n",
    "            \n",
    "            boxes.append([x,y,w,h])\n",
    "            confidences.append(float(confidence))\n",
    "            class_ids.append(class_id)\n"
   ]
  },
  {
   "cell_type": "code",
   "execution_count": 11,
   "metadata": {},
   "outputs": [],
   "source": [
    "indexes = cv2.dnn.NMSBoxes(\n",
    "                            boxes                 ,\n",
    "                            confidences           ,\n",
    "                            score_threshold = 0.5 ,\n",
    "                            nms_threshold   = 0.4\n",
    "                          )"
   ]
  },
  {
   "cell_type": "code",
   "execution_count": 12,
   "metadata": {},
   "outputs": [
    {
     "data": {
      "text/plain": [
       "-1"
      ]
     },
     "execution_count": 12,
     "metadata": {},
     "output_type": "execute_result"
    }
   ],
   "source": [
    "for i in indexes.flatten():\n",
    "    x,y,w,h = boxes[i]\n",
    "    \n",
    "    obj = class_ids[i]\n",
    "    \n",
    "    label = str( classes[obj])\n",
    "    color = COLORS[obj]\n",
    "    \n",
    "    confi = str( round(confidences[i] ,2))\n",
    "    \n",
    "    \n",
    "    cv2.rectangle(img ,(x,y) ,(x+w,y+h) ,color ,2)\n",
    "    cv2.putText(img ,label+','+confi ,(x-10,y-10) ,cv2.FONT_HERSHEY_SIMPLEX ,1,color ,1)\n",
    "\n",
    "cv2.imshow(\"Object Detection\" ,img)\n",
    "cv2.waitKey(0)"
   ]
  },
  {
   "cell_type": "code",
   "execution_count": null,
   "metadata": {},
   "outputs": [],
   "source": []
  }
 ],
 "metadata": {
  "kernelspec": {
   "display_name": "Python 3",
   "language": "python",
   "name": "python3"
  },
  "language_info": {
   "codemirror_mode": {
    "name": "ipython",
    "version": 3
   },
   "file_extension": ".py",
   "mimetype": "text/x-python",
   "name": "python",
   "nbconvert_exporter": "python",
   "pygments_lexer": "ipython3",
   "version": "3.8.5"
  }
 },
 "nbformat": 4,
 "nbformat_minor": 4
}
