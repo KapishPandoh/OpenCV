{
 "cells": [
  {
   "cell_type": "markdown",
   "metadata": {},
   "source": [
    "MediaPipe Face Mesh is a face geometry solution that estimates 468 3D face landmarks in real-time"
   ]
  },
  {
   "cell_type": "code",
   "execution_count": 1,
   "metadata": {},
   "outputs": [],
   "source": [
    "import cv2\n",
    "import mediapipe as mp"
   ]
  },
  {
   "cell_type": "code",
   "execution_count": 2,
   "metadata": {},
   "outputs": [],
   "source": [
    "mpDraw = mp.solutions.drawing_utils"
   ]
  },
  {
   "cell_type": "code",
   "execution_count": 3,
   "metadata": {},
   "outputs": [],
   "source": [
    "mpFaceMesh = mp.solutions.face_mesh"
   ]
  },
  {
   "cell_type": "code",
   "execution_count": 4,
   "metadata": {},
   "outputs": [],
   "source": [
    "face_mesh = mpFaceMesh.FaceMesh(max_num_faces=1)\n",
    "\n",
    "# mpFaceMesh.FaceMesh(\n",
    "#     static_image_mode=False,\n",
    "#     max_num_faces=1,\n",
    "#     min_detection_confidence=0.5,\n",
    "#     min_tracking_confidence=0.5,\n",
    "# )"
   ]
  },
  {
   "cell_type": "code",
   "execution_count": 5,
   "metadata": {},
   "outputs": [],
   "source": [
    "drawSpec = mpDraw.DrawingSpec(thickness=1,circle_radius=1)\n",
    "\n",
    "# mpDraw.DrawingSpec(\n",
    "#     color: Tuple[int, int, int] = (0, 255, 0),\n",
    "#     thickness: int = 2,\n",
    "#     circle_radius: int = 2,)"
   ]
  },
  {
   "cell_type": "code",
   "execution_count": 6,
   "metadata": {},
   "outputs": [],
   "source": [
    "def findFaceMesh(results ,image ,draw=True):\n",
    "    \n",
    "    faces = []\n",
    "    \n",
    "    if results.multi_face_landmarks :\n",
    "        for faceLms in results.multi_face_landmarks :\n",
    "            \n",
    "            face = []\n",
    "            for id,lm in enumerate(faceLms.landmark) :\n",
    "                x,y = int(lm.x * w) ,int(lm.y * h)\n",
    "                face.append([x,y])\n",
    "                \n",
    "                if id==8 or id==9:\n",
    "                    cv2.putText(image ,str(id) ,(x,y) ,cv2.FONT_HERSHEY_PLAIN , 0.7 ,(0,0,0) ,1) \n",
    "                    cv2.circle(image ,(x,y) ,10 ,(0,0,255) ,cv2.FILLED)\n",
    "                \n",
    "            if draw:\n",
    "                mpDraw.draw_landmarks(image, faceLms ,mpFaceMesh.FACE_CONNECTIONS ,drawSpec ,drawSpec)\n",
    "                \n",
    "                \n",
    "            faces.append(face)\n",
    "        \n",
    "    return image,faces"
   ]
  },
  {
   "cell_type": "code",
   "execution_count": 7,
   "metadata": {},
   "outputs": [],
   "source": [
    "cap = cv2.VideoCapture(0)\n",
    "\n",
    "while True:\n",
    "    success, image = cap.read()\n",
    "    h,w = image.shape[:2]\n",
    "    \n",
    "    imageRGB = cv2.cvtColor(image ,cv2.COLOR_BGR2RGB)\n",
    "    results = face_mesh.process(imageRGB)\n",
    "    \n",
    "    image , faces = findFaceMesh(results ,image ,False) \n",
    "    \n",
    "#     if len(faces)!=0:\n",
    "#         print('No of faces detected : ',len(faces))\n",
    "        \n",
    "            \n",
    "            \n",
    "    cv2.imshow('MediaPipe Face Detection', image)\n",
    "    if cv2.waitKey(1) & 0xFF == ord('q'):\n",
    "              break\n",
    "\n",
    "cap.release()\n",
    "cv2.destroyAllWindows()"
   ]
  }
 ],
 "metadata": {
  "kernelspec": {
   "display_name": "Python 3",
   "language": "python",
   "name": "python3"
  },
  "language_info": {
   "codemirror_mode": {
    "name": "ipython",
    "version": 3
   },
   "file_extension": ".py",
   "mimetype": "text/x-python",
   "name": "python",
   "nbconvert_exporter": "python",
   "pygments_lexer": "ipython3",
   "version": "3.8.5"
  }
 },
 "nbformat": 4,
 "nbformat_minor": 4
}
