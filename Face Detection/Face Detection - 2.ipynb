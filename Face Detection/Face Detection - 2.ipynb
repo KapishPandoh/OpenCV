{
 "cells": [
  {
   "cell_type": "code",
   "execution_count": 1,
   "metadata": {},
   "outputs": [],
   "source": [
    "import cv2\n",
    "import mediapipe as mp"
   ]
  },
  {
   "cell_type": "code",
   "execution_count": 2,
   "metadata": {},
   "outputs": [],
   "source": [
    "mp_face_detection = mp.solutions.face_detection\n",
    "mp_drawing = mp.solutions.drawing_utils"
   ]
  },
  {
   "cell_type": "code",
   "execution_count": 3,
   "metadata": {},
   "outputs": [],
   "source": [
    "face = mp_face_detection.FaceDetection(min_detection_confidence=0.75)"
   ]
  },
  {
   "cell_type": "code",
   "execution_count": 4,
   "metadata": {},
   "outputs": [],
   "source": [
    "cap = cv2.VideoCapture(0)"
   ]
  },
  {
   "cell_type": "code",
   "execution_count": 5,
   "metadata": {},
   "outputs": [],
   "source": [
    "def fancyDraw(image ,bbox ,l=30 ,t=5 ,rt=1):\n",
    "    x,y,w,h = bbox\n",
    "    \n",
    "    # diagonal point(bottom right corner point)\n",
    "    x1,y1 = x+w ,y+h\n",
    "    \n",
    "    cv2.rectangle(image ,bbox ,(0,255,0) ,rt)\n",
    "    \n",
    "    # top left\n",
    "    cv2.line(image ,(x,y) ,(x+l,y) ,(0,0,255) ,t)\n",
    "    cv2.line(image ,(x,y) ,(x,y+l) ,(0,0,255) ,t)\n",
    "    \n",
    "    # top right\n",
    "    cv2.line(image ,(x1,y) ,(x1-l,y) ,(0,0,255) ,t)\n",
    "    cv2.line(image ,(x1,y) ,(x1,y+l) ,(0,0,255) ,t)\n",
    "    \n",
    "    # bottom left\n",
    "    cv2.line(image ,(x,y1) ,(x+l,y1) ,(0,0,255) ,t)\n",
    "    cv2.line(image ,(x,y1) ,(x,y1-l) ,(0,0,255) ,t)\n",
    "    \n",
    "    # bottom right\n",
    "    cv2.line(image ,(x1,y1) ,(x1-l,y1) ,(0,0,255) ,t)\n",
    "    cv2.line(image ,(x1,y1) ,(x1,y1-l) ,(0,0,255) ,t)\n",
    "    \n",
    "    return image"
   ]
  },
  {
   "cell_type": "code",
   "execution_count": 6,
   "metadata": {},
   "outputs": [],
   "source": [
    "def findFaces(results ,image ,draw=True):\n",
    "    h,w = image.shape[:2]\n",
    "    bboxes = []\n",
    "    \n",
    "    if results.detections:\n",
    "        for id,detection in enumerate(results.detections):\n",
    "            bboxC = detection.location_data.relative_bounding_box\n",
    "            bbox = int(bboxC.xmin*w) , int(bboxC.ymin*h) , int(bboxC.width*w) , int(bboxC.height*h)\n",
    "            \n",
    "            bboxes.append([id ,bbox ,detection.score])\n",
    "            \n",
    "            if draw :\n",
    "                image = fancyDraw(image ,bbox)\n",
    "                #cv2.rectangle(image ,bbox ,(0,255,0) ,4 )\n",
    "                cv2.putText(image ,f'Confi : {int(detection.score[0]*100)}%' ,(bbox[0],bbox[1]-20) ,cv2.FONT_HERSHEY_PLAIN ,2 ,(0,255,0) ,2)\n",
    "\n",
    "    \n",
    "    return image,bboxes"
   ]
  },
  {
   "cell_type": "code",
   "execution_count": 7,
   "metadata": {},
   "outputs": [],
   "source": [
    "while True:\n",
    "    success, image = cap.read()\n",
    "    h,w = image.shape[:2]\n",
    "    \n",
    "    if success:\n",
    "        \n",
    "        imageRGB = cv2.cvtColor(image ,cv2.COLOR_BGR2RGB)\n",
    "        results = face.process(imageRGB)\n",
    "        \n",
    "        image,bboxes = findFaces(results ,image)\n",
    "        \n",
    "        cv2.imshow('MediaPipe Face Detection', image)\n",
    "        if cv2.waitKey(1) & 0xFF == ord('q'):\n",
    "              break\n",
    "\n",
    "cap.release()\n",
    "cv2.destroyAllWindows()"
   ]
  }
 ],
 "metadata": {
  "kernelspec": {
   "display_name": "Python 3",
   "language": "python",
   "name": "python3"
  },
  "language_info": {
   "codemirror_mode": {
    "name": "ipython",
    "version": 3
   },
   "file_extension": ".py",
   "mimetype": "text/x-python",
   "name": "python",
   "nbconvert_exporter": "python",
   "pygments_lexer": "ipython3",
   "version": "3.8.5"
  }
 },
 "nbformat": 4,
 "nbformat_minor": 4
}
