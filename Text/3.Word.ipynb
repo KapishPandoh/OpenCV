{
 "cells": [
  {
   "cell_type": "code",
   "execution_count": 1,
   "metadata": {},
   "outputs": [],
   "source": [
    "import cv2\n",
    "import pytesseract"
   ]
  },
  {
   "cell_type": "code",
   "execution_count": 2,
   "metadata": {},
   "outputs": [],
   "source": [
    "pytesseract.pytesseract.tesseract_cmd = r\"C:\\Program Files\\Tesseract-OCR\\tesseract.exe\""
   ]
  },
  {
   "cell_type": "code",
   "execution_count": 3,
   "metadata": {},
   "outputs": [],
   "source": [
    "image = cv2.imread('Cheese Burger.jpg')\n",
    "image = cv2.resize(image ,(400,400) ,interpolation=cv2.INTER_AREA)"
   ]
  },
  {
   "cell_type": "code",
   "execution_count": 4,
   "metadata": {},
   "outputs": [],
   "source": [
    "# pytesseract accepts only RGB images\n",
    "image = cv2.cvtColor(image ,cv2.COLOR_BGR2RGB)"
   ]
  },
  {
   "cell_type": "code",
   "execution_count": 5,
   "metadata": {},
   "outputs": [],
   "source": [
    "imgH ,imgW = image.shape[:2]"
   ]
  },
  {
   "cell_type": "code",
   "execution_count": 6,
   "metadata": {},
   "outputs": [
    {
     "data": {
      "text/plain": [
       "-1"
      ]
     },
     "execution_count": 6,
     "metadata": {},
     "output_type": "execute_result"
    }
   ],
   "source": [
    "boxes = pytesseract.image_to_data(image)\n",
    "\n",
    "for x,b in enumerate(boxes.splitlines()):\n",
    "    if x!=0 :\n",
    "        b = b.split()\n",
    "        \n",
    "        if len(b)==12 :\n",
    "            x,y,w,h = int(b[6]) ,int(b[7]) ,int(b[8]) ,int(b[9])\n",
    "            cv2.rectangle(image ,(x,y) ,(x+w,y+h) ,(0,0,255) ,2)\n",
    "            cv2.putText(image ,b[11] ,(x,y) ,cv2.FONT_HERSHEY_COMPLEX,1 ,(50,50,255) ,2)\n",
    "\n",
    "cv2.imshow(\"Result\",image)\n",
    "cv2.waitKey(0)"
   ]
  },
  {
   "cell_type": "code",
   "execution_count": null,
   "metadata": {},
   "outputs": [],
   "source": []
  }
 ],
 "metadata": {
  "kernelspec": {
   "display_name": "Python 3",
   "language": "python",
   "name": "python3"
  },
  "language_info": {
   "codemirror_mode": {
    "name": "ipython",
    "version": 3
   },
   "file_extension": ".py",
   "mimetype": "text/x-python",
   "name": "python",
   "nbconvert_exporter": "python",
   "pygments_lexer": "ipython3",
   "version": "3.8.5"
  }
 },
 "nbformat": 4,
 "nbformat_minor": 4
}
