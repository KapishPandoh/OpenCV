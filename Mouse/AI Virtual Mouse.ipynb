{
 "cells": [
  {
   "cell_type": "code",
   "execution_count": 1,
   "metadata": {},
   "outputs": [],
   "source": [
    "import cv2\n",
    "import numpy as np\n",
    "import math"
   ]
  },
  {
   "cell_type": "code",
   "execution_count": 2,
   "metadata": {},
   "outputs": [],
   "source": [
    "import autopy"
   ]
  },
  {
   "cell_type": "code",
   "execution_count": 3,
   "metadata": {},
   "outputs": [],
   "source": [
    "import mediapipe as mp"
   ]
  },
  {
   "cell_type": "code",
   "execution_count": 4,
   "metadata": {},
   "outputs": [],
   "source": [
    "cap = cv2.VideoCapture(0)"
   ]
  },
  {
   "cell_type": "code",
   "execution_count": 5,
   "metadata": {},
   "outputs": [
    {
     "data": {
      "text/plain": [
       "True"
      ]
     },
     "execution_count": 5,
     "metadata": {},
     "output_type": "execute_result"
    }
   ],
   "source": [
    "wCam = 720\n",
    "hCam = 720\n",
    "\n",
    "cap.set(3,wCam)\n",
    "cap.set(4,hCam)"
   ]
  },
  {
   "cell_type": "code",
   "execution_count": 6,
   "metadata": {},
   "outputs": [],
   "source": [
    "wScrn , hScrn = autopy.screen.size()"
   ]
  },
  {
   "cell_type": "code",
   "execution_count": 7,
   "metadata": {},
   "outputs": [],
   "source": [
    "mpHands = mp.solutions.hands\n",
    "mpDraw = mp.solutions.drawing_utils"
   ]
  },
  {
   "cell_type": "code",
   "execution_count": 8,
   "metadata": {},
   "outputs": [],
   "source": [
    "hands = mpHands.Hands(\n",
    "                       static_image_mode=False,  \n",
    "                       max_num_hands=2,\n",
    "                       min_detection_confidence = 0.7 ,\n",
    "                       min_tracking_confidence = 0.5 \n",
    "                     )"
   ]
  },
  {
   "cell_type": "code",
   "execution_count": 9,
   "metadata": {},
   "outputs": [],
   "source": [
    "tipIds = [4, 8, 12, 16, 20]"
   ]
  },
  {
   "cell_type": "code",
   "execution_count": 10,
   "metadata": {},
   "outputs": [],
   "source": [
    "def findHands(img ,draw=True):\n",
    "    imgRGB = cv2.cvtColor(img, cv2.COLOR_BGR2RGB)\n",
    "    results = hands.process(imgRGB)\n",
    "    \n",
    "    if results.multi_hand_landmarks:\n",
    "        for handLms in results.multi_hand_landmarks:\n",
    "            if draw:\n",
    "                mpDraw.draw_landmarks(img, handLms,mpHands.HAND_CONNECTIONS)\n",
    "    \n",
    "    return img,results"
   ]
  },
  {
   "cell_type": "code",
   "execution_count": 11,
   "metadata": {},
   "outputs": [],
   "source": [
    "def findPosition(img ,results,draw=True):\n",
    "    xList = []\n",
    "    yList = []\n",
    "    bbox = []\n",
    "    \n",
    "    lmList = []\n",
    "    \n",
    "    h, w = img.shape[:2]\n",
    "    \n",
    "    if results.multi_hand_landmarks:\n",
    "        myHand = results.multi_hand_landmarks[0]\n",
    "        \n",
    "        for id, lm in enumerate(myHand.landmark):\n",
    "            cx, cy = int(lm.x*w), int(lm.y*h)\n",
    "\n",
    "            xList.append(cx)\n",
    "            yList.append(cy)\n",
    "\n",
    "            lmList.append([id, cx, cy])\n",
    "\n",
    "        xmin, xmax = min(xList), max(xList)\n",
    "        ymin, ymax = min(yList), max(yList)\n",
    "        \n",
    "        # bounding boxes\n",
    "        bbox = xmin,ymin,xmax,ymax\n",
    "        \n",
    "        if draw :\n",
    "            cv2.rectangle(img ,(bbox[0]-20,bbox[1]-20) ,(bbox[2]+20,bbox[3]+20), (0,255,0) ,2)\n",
    "    return lmList , bbox"
   ]
  },
  {
   "cell_type": "code",
   "execution_count": 12,
   "metadata": {},
   "outputs": [],
   "source": [
    "def fingersUp(lmList):\n",
    "    \n",
    "    fingers = []\n",
    "    \n",
    "    # Thumb\n",
    "    if lmList[tipIds[0]][1] > lmList[tipIds[0] - 1][1]:\n",
    "        fingers.append(1)\n",
    "        \n",
    "    else:\n",
    "        fingers.append(0)\n",
    "    \n",
    "    # 4 Fingers\n",
    "    for id in range(1, 5):\n",
    "        if lmList[tipIds[id]][2] < lmList[tipIds[id] - 2][2]:\n",
    "            fingers.append(1)\n",
    "        else:\n",
    "            fingers.append(0)\n",
    "        \n",
    "    return fingers"
   ]
  },
  {
   "cell_type": "code",
   "execution_count": 13,
   "metadata": {},
   "outputs": [],
   "source": [
    "def findDistance(lmList,p1,p2,img,draw=True):\n",
    "    x1,y1 = lmList[p1][1] , lmList[p1][2]\n",
    "    x2,y2 = lmList[p2][1] , lmList[p2][2]\n",
    "\n",
    "\n",
    "    cx,cy = (x1+x2)//2 ,(y1+y2)//2\n",
    "    \n",
    "    if draw:\n",
    "        cv2.circle(img ,(x1,y1) ,5 ,(0,0,0) ,cv2.FILLED)\n",
    "        cv2.circle(img ,(x2,y2) ,5 ,(0,0,0) ,cv2.FILLED)\n",
    "        cv2.circle(img ,(cx,cy) ,5 ,(0,0,0) ,cv2.FILLED)\n",
    "\n",
    "        cv2.line(img ,(x1,y1) ,(x2,y2) ,(230,85,73) ,3)\n",
    "\n",
    "    length = math.hypot(x2-x1,y2-y1)\n",
    "    \n",
    "    return length,img ,[x1,y1,x2,y2,cx,cy]"
   ]
  },
  {
   "cell_type": "code",
   "execution_count": 14,
   "metadata": {},
   "outputs": [],
   "source": [
    "# Frame reduction\n",
    "frameR = 100"
   ]
  },
  {
   "cell_type": "code",
   "execution_count": 15,
   "metadata": {},
   "outputs": [],
   "source": [
    "smoothening = 5"
   ]
  },
  {
   "cell_type": "code",
   "execution_count": 16,
   "metadata": {},
   "outputs": [],
   "source": [
    "prev_loc_x , prev_loc_y = 0 , 0\n",
    "curr_loc_x , curr_loc_y = 0 , 0"
   ]
  },
  {
   "cell_type": "code",
   "execution_count": 17,
   "metadata": {},
   "outputs": [],
   "source": [
    "while True :\n",
    "    _,img = cap.read()\n",
    "    \n",
    "    # Find Landmarks\n",
    "    img,results = findHands(img)\n",
    "    lmList ,bbox = findPosition(img ,results)\n",
    "    \n",
    "    # Get Tip of Index and Middle finger\n",
    "    if len(lmList)!=0:\n",
    "        # index finger\n",
    "        x1,y1 = lmList[8][1:]\n",
    "        # middle finger\n",
    "        x2,y2 = lmList[12][1:]\n",
    "        \n",
    "        # Check which finger is up\n",
    "        fingers = fingersUp(lmList)\n",
    "        \n",
    "        cv2.rectangle(img ,(frameR,frameR) ,(wCam-frameR,hCam-frameR) ,(255,0,255) ,2)\n",
    "            \n",
    "        # only index finger : Moving mode\n",
    "        if fingers[1]==1 and fingers[2]==0 :\n",
    "            # convert coordinates\n",
    "            # converting from one range to another\n",
    "            #           converting x1 , initial range ,\n",
    "            x3 = np.interp(x1 ,(frameR,wCam-frameR) ,(0,wScrn))\n",
    "            y3 = np.interp(y1 ,(frameR,hCam-frameR) ,(0,hScrn)) \n",
    "              \n",
    "            # smoothen values , so it doesnot shake alot\n",
    "            curr_loc_x = prev_loc_x + (x3-prev_loc_x)/smoothening\n",
    "            curr_loc_y = prev_loc_y + (y3-prev_loc_y)/smoothening\n",
    "           \n",
    "            prev_loc_x , prev_loc_y = curr_loc_x , curr_loc_y\n",
    "\n",
    "            # move mouse\n",
    "            # we sub. with wScrn otherwise when we are moving to left move will move to right\n",
    "            autopy.mouse.move(wScrn-curr_loc_x,curr_loc_y)\n",
    "            cv2.circle(img ,(x1,y1) ,10 ,(0,0,0) ,-1)\n",
    "\n",
    "        # Both index and middle finger are up : Clicking mode\n",
    "        if fingers[1]==1 and fingers[2]==1 :\n",
    "            # Find Distance between fingers\n",
    "            length ,img ,line_info = findDistance(lmList,8,12,img)\n",
    "            if length<50:\n",
    "                cv2.circle(img ,(line_info[4],line_info[5]) ,10 ,(0,255,0) ,-1)\n",
    "                # Click mouse if distance short\n",
    "                autopy.mouse.click()\n",
    "        \n",
    "        \n",
    "\n",
    "    cv2.imshow('AI Virtual Mouse',img)\n",
    "    if cv2.waitKey(1)&0xff == ord('q'):\n",
    "        break\n",
    "\n",
    "cap.release()\n",
    "cv2.destroyAllWindows()   "
   ]
  }
 ],
 "metadata": {
  "kernelspec": {
   "display_name": "Python 3",
   "language": "python",
   "name": "python3"
  },
  "language_info": {
   "codemirror_mode": {
    "name": "ipython",
    "version": 3
   },
   "file_extension": ".py",
   "mimetype": "text/x-python",
   "name": "python",
   "nbconvert_exporter": "python",
   "pygments_lexer": "ipython3",
   "version": "3.8.5"
  }
 },
 "nbformat": 4,
 "nbformat_minor": 4
}
