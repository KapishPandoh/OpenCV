{
 "cells": [
  {
   "cell_type": "code",
   "execution_count": 1,
   "metadata": {},
   "outputs": [],
   "source": [
    "import cv2\n",
    "import numpy as np"
   ]
  },
  {
   "cell_type": "code",
   "execution_count": 2,
   "metadata": {},
   "outputs": [],
   "source": [
    "import mediapipe as mp"
   ]
  },
  {
   "cell_type": "code",
   "execution_count": 3,
   "metadata": {},
   "outputs": [],
   "source": [
    "mpDraw = mp.solutions.drawing_utils"
   ]
  },
  {
   "cell_type": "code",
   "execution_count": 4,
   "metadata": {},
   "outputs": [],
   "source": [
    "mpHands = mp.solutions.hands"
   ]
  },
  {
   "cell_type": "code",
   "execution_count": 5,
   "metadata": {},
   "outputs": [],
   "source": [
    "hands = mpHands.Hands(\n",
    "                       static_image_mode=False,\n",
    "                       max_num_hands=2,\n",
    "                       min_detection_confidence=0.7,\n",
    "                       min_tracking_confidence=0.5 \n",
    "                     )"
   ]
  },
  {
   "cell_type": "code",
   "execution_count": 6,
   "metadata": {},
   "outputs": [],
   "source": [
    "tipsID = [4,8,12,16,20]"
   ]
  },
  {
   "cell_type": "code",
   "execution_count": 7,
   "metadata": {},
   "outputs": [
    {
     "data": {
      "text/plain": [
       "True"
      ]
     },
     "execution_count": 7,
     "metadata": {},
     "output_type": "execute_result"
    }
   ],
   "source": [
    "cap = cv2.VideoCapture(0)\n",
    "cap.set(3,1135)\n",
    "cap.set(4,720)"
   ]
  },
  {
   "cell_type": "code",
   "execution_count": 8,
   "metadata": {},
   "outputs": [],
   "source": [
    "header = cv2.imread('paint.png')"
   ]
  },
  {
   "cell_type": "code",
   "execution_count": 9,
   "metadata": {},
   "outputs": [],
   "source": [
    "draw_color = (255,0,0)"
   ]
  },
  {
   "cell_type": "code",
   "execution_count": 10,
   "metadata": {},
   "outputs": [],
   "source": [
    "def findHand(results ,img) :\n",
    "    \n",
    "    if results.multi_hand_landmarks :\n",
    "        for Handlms in results.multi_hand_landmarks :\n",
    "            mpDraw.draw_landmarks(img ,Handlms ,mpHands.HAND_CONNECTIONS)\n",
    "    \n",
    "    return img"
   ]
  },
  {
   "cell_type": "code",
   "execution_count": 11,
   "metadata": {},
   "outputs": [],
   "source": [
    "def findPosition(results ,img ):\n",
    "    lmList = []\n",
    "    h,w = img.shape[:2]\n",
    "    \n",
    "    if results.multi_hand_landmarks :\n",
    "        for Handlms in results.multi_hand_landmarks :\n",
    "            for id,lm in enumerate(Handlms.landmark) :\n",
    "                cx , cy = int(lm.x * w) , int(lm.y * h)\n",
    "                lmList.append([id,cx,cy])\n",
    "    \n",
    "    return lmList"
   ]
  },
  {
   "cell_type": "code",
   "execution_count": 12,
   "metadata": {},
   "outputs": [],
   "source": [
    "def fingersUP(lmList):\n",
    "    fingers = []\n",
    "    \n",
    "    # thumb\n",
    "    if  lmList[tipsID[0]][1]<lmList[tipsID[0]-1][1] :\n",
    "        fingers.append(1)\n",
    "    else:\n",
    "        fingers.append(0)\n",
    "        \n",
    "    \n",
    "    # fingers\n",
    "    for id in range(1,5):\n",
    "        if  lmList[tipsID[id]][2]<lmList[tipsID[id]-2][2] :\n",
    "            fingers.append(1)\n",
    "        else:\n",
    "            fingers.append(0)\n",
    "    \n",
    "    return fingers"
   ]
  },
  {
   "cell_type": "code",
   "execution_count": 13,
   "metadata": {},
   "outputs": [],
   "source": [
    "xp,yp = 0,0\n",
    "eraser_thickness = 40\n",
    "brush_thickness = 20"
   ]
  },
  {
   "cell_type": "code",
   "execution_count": 14,
   "metadata": {},
   "outputs": [],
   "source": [
    "img_canvas = np.zeros((720,1280,3) ,dtype='uint8')"
   ]
  },
  {
   "cell_type": "code",
   "execution_count": 15,
   "metadata": {},
   "outputs": [],
   "source": [
    "while True :\n",
    "    _ , img = cap.read()\n",
    "    h,w = img.shape[:2]\n",
    "    \n",
    "    # we have to flip the image ,because if we move to left it will draw on right\n",
    "    img = cv2.flip(img ,1)\n",
    "    \n",
    "    imgRGB = cv2.cvtColor(img ,cv2.COLOR_BGR2RGB)\n",
    "    results = hands.process(imgRGB)\n",
    "    \n",
    "    img = findHand(results ,img)\n",
    "    lmList = findPosition(results ,img)\n",
    "    \n",
    "    if len(lmList)!=0 :\n",
    "        \n",
    "        # index finger\n",
    "        x1 ,y1 = lmList[8][1:]\n",
    "        # middle finger\n",
    "        x2 ,y2 = lmList[12][1:]\n",
    "        \n",
    "        # Check which finger is up\n",
    "        fingers = fingersUP(lmList)\n",
    "        \n",
    "        # selection mode\n",
    "        if fingers[1]==1 and fingers[2]==1:\n",
    "            xp,yp = 0,0\n",
    "            \n",
    "            if y1<141 :\n",
    "                \n",
    "                # color 1\n",
    "                if 64<x1<180:\n",
    "                    draw_color = (0,0,255)\n",
    "                    \n",
    "                # color 2\n",
    "                elif 280<x1<378:\n",
    "                    draw_color = (204, 51, 51)\n",
    "                    \n",
    "                # color 3\n",
    "                elif 473<x1<570:\n",
    "                    draw_color = (204, 255 ,102)\n",
    "                    \n",
    "                # color 4\n",
    "                elif 678<x1<782:\n",
    "                    draw_color = (197, 122, 175)\n",
    "                \n",
    "                # eraser\n",
    "                elif 892<x1<1087:\n",
    "                    draw_color = (0,0,0)\n",
    "            \n",
    "            cv2.rectangle(img ,(x1,y1-25) ,(x2 ,y2+25) ,draw_color ,cv2.FILLED)\n",
    "            \n",
    "           \n",
    "        \n",
    "        # index finger up : drawing mode\n",
    "        if fingers[1]==1 and fingers[2]==0 :\n",
    "    \n",
    "            if xp==0 and yp==0:\n",
    "                xp,yp = x1,y1\n",
    "            \n",
    "            if draw_color==(0,0,0):\n",
    "                cv2.line(img ,(xp,yp) ,(x1,y1) ,draw_color ,eraser_thickness)\n",
    "                cv2.line(img_canvas ,(xp,yp) ,(x1,y1) ,draw_color ,eraser_thickness)\n",
    "            \n",
    "            else:\n",
    "                cv2.line(img ,(xp,yp) ,(x1,y1) ,draw_color ,brush_thickness)\n",
    "                cv2.line(img_canvas ,(xp,yp) ,(x1,y1) ,draw_color ,brush_thickness)\n",
    "            \n",
    "            xp,yp = x1,y1\n",
    "        \n",
    "    \n",
    "    imgGray = cv2.cvtColor(img_canvas ,cv2.COLOR_BGR2GRAY)\n",
    "\n",
    "    _ , imgInv = cv2.threshold(imgGray ,50 ,255 ,cv2.THRESH_BINARY_INV)\n",
    "    \n",
    "    imgInv = cv2.cvtColor(imgInv ,cv2.COLOR_GRAY2BGR)\n",
    "    \n",
    "   \n",
    "    img = cv2.bitwise_and(img ,imgInv)\n",
    "    img = cv2.bitwise_or(img ,img_canvas)\n",
    "    \n",
    "    img[0:141,0:1135] = header\n",
    "\n",
    "    cv2.imshow('Painter' ,img)\n",
    "    cv2.imshow('Painter1' ,img_canvas)\n",
    "    cv2.imshow('Painte2' ,imgInv)\n",
    "    \n",
    "    if cv2.waitKey(1)&0xff == ord('q'):\n",
    "        break\n",
    "    \n",
    "cap.release()\n",
    "cv2.destroyAllWindows()"
   ]
  },
  {
   "cell_type": "code",
   "execution_count": null,
   "metadata": {},
   "outputs": [],
   "source": []
  }
 ],
 "metadata": {
  "kernelspec": {
   "display_name": "Python 3",
   "language": "python",
   "name": "python3"
  },
  "language_info": {
   "codemirror_mode": {
    "name": "ipython",
    "version": 3
   },
   "file_extension": ".py",
   "mimetype": "text/x-python",
   "name": "python",
   "nbconvert_exporter": "python",
   "pygments_lexer": "ipython3",
   "version": "3.8.5"
  }
 },
 "nbformat": 4,
 "nbformat_minor": 4
}
